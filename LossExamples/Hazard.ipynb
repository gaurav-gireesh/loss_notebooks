{
 "cells": [
  {
   "cell_type": "code",
   "execution_count": 59,
   "metadata": {},
   "outputs": [],
   "source": [
    "import mxnet as mx\n",
    "import numpy as np\n",
    "from mxnet import gluon, nd, autograd\n",
    "mx.random.seed(1)\n",
    "import pandas as pd\n",
    "\n",
    "from mxnet.gluon import nn\n",
    "%matplotlib inline\n",
    "from matplotlib import pyplot as plt"
   ]
  },
  {
   "cell_type": "code",
   "execution_count": 60,
   "metadata": {},
   "outputs": [],
   "source": [
    "from mxnet.gluon.loss import PoissonNLLLoss"
   ]
  },
  {
   "cell_type": "code",
   "execution_count": 61,
   "metadata": {},
   "outputs": [],
   "source": [
    "df = pd.read_csv('../train.csv',skiprows=1,header=None)"
   ]
  },
  {
   "cell_type": "code",
   "execution_count": 62,
   "metadata": {},
   "outputs": [],
   "source": [
    "df_wo_nonnumeric = df.select_dtypes(include=np.number)"
   ]
  },
  {
   "cell_type": "code",
   "execution_count": 63,
   "metadata": {},
   "outputs": [
    {
     "data": {
      "text/plain": [
       "((50999, 17), (50999,))"
      ]
     },
     "execution_count": 63,
     "metadata": {},
     "output_type": "execute_result"
    }
   ],
   "source": [
    "df_train_y = df_wo_nonnumeric[1]\n",
    "np_train_y = df_train_y.values\n",
    "df_train_x = df_wo_nonnumeric.drop(labels=1,axis =1)\n",
    "np_train_x = df_train_x.values\n",
    "X = nd.array(np_train_x)\n",
    "Y  = nd.array(np_train_y)\n",
    "X.shape, Y.shape"
   ]
  },
  {
   "cell_type": "code",
   "execution_count": 64,
   "metadata": {},
   "outputs": [],
   "source": [
    "num_examples = X.shape[0]\n",
    "num_features = X.shape[1]\n",
    "epochs = 10\n",
    "num_outputs = 1\n",
    "model_ctx = mx.cpu()\n",
    "data_ctx = mx.cpu()"
   ]
  },
  {
   "cell_type": "code",
   "execution_count": 65,
   "metadata": {},
   "outputs": [
    {
     "name": "stdout",
     "output_type": "stream",
     "text": [
      "Number of training examples =  50999\n",
      "Number of input features =  17\n"
     ]
    }
   ],
   "source": [
    "print(\"Number of training examples = \", num_examples)\n",
    "print(\"Number of input features = \",num_features)\n",
    "X_mean = nd.mean(X, axis=0)\n",
    "X_SD = nd.array(np.std(X.asnumpy(),axis=0))\n",
    "X_nm =  (X - X_mean) / X_SD"
   ]
  },
  {
   "cell_type": "code",
   "execution_count": 66,
   "metadata": {},
   "outputs": [],
   "source": [
    "batch_size = 256\n",
    "# Genrate the training set usin ArrayDataSet\n",
    "training_set = gluon.data.DataLoader(gluon.data.ArrayDataset(X_nm,Y), shuffle=True, batch_size = batch_size )"
   ]
  },
  {
   "cell_type": "code",
   "execution_count": 67,
   "metadata": {},
   "outputs": [
    {
     "data": {
      "text/plain": [
       "Sequential(\n",
       "  (0): Dense(None -> 1, Activation(relu))\n",
       "  (1): Dense(None -> 1, linear)\n",
       ")"
      ]
     },
     "execution_count": 67,
     "metadata": {},
     "output_type": "execute_result"
    }
   ],
   "source": [
    "net = nn.Sequential()\n",
    "# Add a sequence of layers.\n",
    "net.add(\n",
    "    nn.Dense(1,activation='relu'),\n",
    "    nn.Dense(1)\n",
    ")\n",
    "    \n",
    "net"
   ]
  },
  {
   "cell_type": "code",
   "execution_count": 73,
   "metadata": {},
   "outputs": [],
   "source": [
    "poisson_loss = PoissonNLLLoss(from_logits=False)"
   ]
  },
  {
   "cell_type": "code",
   "execution_count": 74,
   "metadata": {},
   "outputs": [],
   "source": [
    "# Calculating forward pass output of the model\n",
    "def poissonloss_hidden(X):\n",
    "    yhat1 = net(X);\n",
    "    yhat = nd.exp(yhat1)\n",
    "    return yhat"
   ]
  },
  {
   "cell_type": "code",
   "execution_count": 75,
   "metadata": {},
   "outputs": [
    {
     "name": "stderr",
     "output_type": "stream",
     "text": [
      "/Users/gireeg/Desktop/Internship/mxnetrepo/incubator-mxnet/python/mxnet/gluon/parameter.py:813: UserWarning: Parameter 'dense4_bias' is already initialized, ignoring. Set force_reinit=True to re-initialize.\n",
      "  v.initialize(None, ctx, init, force_reinit=force_reinit)\n",
      "/Users/gireeg/Desktop/Internship/mxnetrepo/incubator-mxnet/python/mxnet/gluon/parameter.py:813: UserWarning: Parameter 'dense5_bias' is already initialized, ignoring. Set force_reinit=True to re-initialize.\n",
      "  v.initialize(None, ctx, init, force_reinit=force_reinit)\n"
     ]
    }
   ],
   "source": [
    "net.collect_params().initialize(mx.init.Normal(sigma=1), ctx=mx.cpu())"
   ]
  },
  {
   "cell_type": "code",
   "execution_count": 76,
   "metadata": {},
   "outputs": [],
   "source": [
    "trainer = gluon.Trainer(net.collect_params(), 'sgd', {'learning_rate': 0.06})"
   ]
  },
  {
   "cell_type": "code",
   "execution_count": 78,
   "metadata": {},
   "outputs": [
    {
     "name": "stdout",
     "output_type": "stream",
     "text": [
      "Epoch 0, loss: 0.015497304815439976\n",
      "Epoch 5, loss: -0.0035030271727004825\n",
      "Epoch 10, loss: -0.005131188388029644\n",
      "Epoch 15, loss: -0.00581314224629204\n",
      "Epoch 20, loss: -0.0060662215554355865\n",
      "Epoch 25, loss: -0.006156530074553012\n",
      "Epoch 30, loss: -0.006185517994237251\n",
      "Epoch 35, loss: -0.00616035693607956\n",
      "Epoch 40, loss: -0.006200774910099406\n",
      "Epoch 45, loss: -0.006202472366794221\n"
     ]
    }
   ],
   "source": [
    "# Training loop\n",
    "epochs = 50\n",
    "loss_sequence = []\n",
    "loss_seq = []\n",
    "niter = 0\n",
    "epochslist = []\n",
    "num_batches = num_examples / batch_size\n",
    "smoothing_constant = 0.5\n",
    "moving_loss = 0\n",
    "\n",
    "for e in range(epochs):\n",
    "    cumulative_loss = 0\n",
    "    # inner loop\n",
    "    for i, (data, label) in enumerate(training_set):\n",
    "\n",
    "        with autograd.record():\n",
    "            output = poissonloss_hidden(data)\n",
    "            loss =  poisson_loss(output, label)\n",
    "        loss.backward()\n",
    "        trainer.step(batch_size)\n",
    "        niter +=1\n",
    "        curr_loss = nd.mean(loss).asscalar()\n",
    "        moving_loss = (1 - smoothing_constant) * moving_loss + (smoothing_constant) * curr_loss\n",
    "\n",
    "        # correct the bias from the moving averages\n",
    "        est_loss = moving_loss/(1-(1-smoothing_constant)**niter)\n",
    "        loss_seq.append(est_loss)\n",
    "        cumulative_loss += nd.mean(loss).asscalar()\n",
    "    if e % 5 ==0:    \n",
    "        print(\"Epoch %s, loss: %s\" % (e, cumulative_loss / num_examples))\n",
    "    loss_sequence.append(cumulative_loss/num_examples)\n",
    "    epochslist.append(e)"
   ]
  },
  {
   "cell_type": "code",
   "execution_count": 79,
   "metadata": {},
   "outputs": [
    {
     "data": {
      "text/plain": [
       "Text(0,0.5,'loss')"
      ]
     },
     "execution_count": 79,
     "metadata": {},
     "output_type": "execute_result"
    },
    {
     "data": {
      "image/png": "[encoded data removed]",
      "text/plain": [
       "<Figure size 432x288 with 1 Axes>"
      ]
     },
     "metadata": {},
     "output_type": "display_data"
    }
   ],
   "source": [
    "%matplotlib inline\n",
    "import matplotlib.pyplot as plt\n",
    "\n",
    "plt.plot(epochslist,loss_sequence,color='red')\n",
    "plt.grid(True,which=\"both\")\n",
    "plt.xlabel('iteration(epochs)',fontsize=14)\n",
    "plt.ylabel('loss',fontsize=14)"
   ]
  },
  {
   "cell_type": "code",
   "execution_count": 80,
   "metadata": {},
   "outputs": [
    {
     "data": {
      "text/plain": [
       "Text(0,0.5,'est loss')"
      ]
     },
     "execution_count": 80,
     "metadata": {},
     "output_type": "execute_result"
    },
    {
     "data": {
      "image/png": "[encoded data removed]",
      "text/plain": [
       "<Figure size 640x480 with 1 Axes>"
      ]
     },
     "metadata": {},
     "output_type": "display_data"
    }
   ],
   "source": [
    "%matplotlib inline\n",
    "\n",
    "import matplotlib\n",
    "import matplotlib.pyplot as plt\n",
    "\n",
    "plt.figure(num=None,figsize=(8, 6),dpi=80, facecolor='w', edgecolor='k')\n",
    "plt.plot(range(niter),loss_seq, '.')\n",
    "\n",
    "# adding some additional bells and whistles to the plot\n",
    "plt.grid(True,which=\"both\")\n",
    "plt.xlabel('iteration',fontsize=14)\n",
    "plt.ylabel('est loss',fontsize=14)"
   ]
  },
  {
   "cell_type": "code",
   "execution_count": null,
   "metadata": {},
   "outputs": [],
   "source": []
  }
 ],
 "metadata": {
  "kernelspec": {
   "display_name": "Python 3",
   "language": "python",
   "name": "python3"
  },
  "language_info": {
   "codemirror_mode": {
    "name": "ipython",
    "version": 3
   },
   "file_extension": ".py",
   "mimetype": "text/x-python",
   "name": "python",
   "nbconvert_exporter": "python",
   "pygments_lexer": "ipython3",
   "version": "3.6.5"
  }
 },
 "nbformat": 4,
 "nbformat_minor": 2
}
