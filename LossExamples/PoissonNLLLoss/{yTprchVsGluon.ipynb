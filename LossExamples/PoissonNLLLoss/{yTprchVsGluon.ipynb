{
 "cells": [
  {
   "cell_type": "code",
   "execution_count": 4,
   "metadata": {},
   "outputs": [],
   "source": [
    "import torch\n",
    "import numpy as np"
   ]
  },
  {
   "cell_type": "code",
   "execution_count": 5,
   "metadata": {},
   "outputs": [],
   "source": [
    "from torch import nn as t_nn"
   ]
  },
  {
   "cell_type": "code",
   "execution_count": 75,
   "metadata": {},
   "outputs": [],
   "source": [
    "sample_new_input = np.array([[3, 1, 4],[2, 1, 3]],dtype=np.float32)\n",
    "sample_new_target = np.array([[1,2,1],[3, 4, 4]],dtype = np.float32)\n"
   ]
  },
  {
   "cell_type": "code",
   "execution_count": 76,
   "metadata": {},
   "outputs": [
    {
     "name": "stdout",
     "output_type": "stream",
     "text": [
      "PyTorch Poisson NLL Loss value =  tensor(0.8402)\n"
     ]
    }
   ],
   "source": [
    "torch_loss = t_nn.PoissonNLLLoss(log_input=False,reduction='elementwise_mean')\n",
    "sample_output = loss(torch.tensor(sample_new_input),torch.tensor(sample_new_target))\n",
    "print(\"PyTorch Poisson NLL Loss value = \", sample_output)"
   ]
  },
  {
   "cell_type": "code",
   "execution_count": 89,
   "metadata": {},
   "outputs": [],
   "source": [
    "# Computing Gluon's Poisson NLLLoss\n",
    "import mxnet as mx\n",
    "from mxnet import gluon, nd, autograd\n",
    "from mxnet.gluon.loss import PoissonNLLLoss\n",
    "from mxnet.test_utils import assert_almost_equal, default_context"
   ]
  },
  {
   "cell_type": "code",
   "execution_count": 78,
   "metadata": {},
   "outputs": [],
   "source": [
    "gluon_poisson_loss = PoissonNLLLoss(from_logits=False)"
   ]
  },
  {
   "cell_type": "code",
   "execution_count": 79,
   "metadata": {},
   "outputs": [],
   "source": [
    "gluon_p_loss = gluon_poisson_loss(nd.array(sample_new_input), nd.array(sample_new_target))"
   ]
  },
  {
   "cell_type": "code",
   "execution_count": 80,
   "metadata": {},
   "outputs": [
    {
     "name": "stdout",
     "output_type": "stream",
     "text": [
      "\n",
      "[0.8402004]\n",
      "<NDArray 1 @cpu(0)>\n"
     ]
    }
   ],
   "source": [
    "print(gluon_p_loss)"
   ]
  },
  {
   "cell_type": "code",
   "execution_count": 70,
   "metadata": {},
   "outputs": [
    {
     "name": "stdout",
     "output_type": "stream",
     "text": [
      "0.8402004241943359\n"
     ]
    }
   ],
   "source": [
    "print (np.asscalar(np.array(sample_output)))"
   ]
  },
  {
   "cell_type": "code",
   "execution_count": 74,
   "metadata": {},
   "outputs": [
    {
     "name": "stdout",
     "output_type": "stream",
     "text": [
      "None\n"
     ]
    }
   ],
   "source": [
    "# assert gluon_p_loss.asscalar == np.asscalar(np.array(sample_output))\n",
    "print(assert_almost_equal(gluon_p_loss.asscalar(),np.asscalar(np.array(sample_output) )))"
   ]
  },
  {
   "cell_type": "code",
   "execution_count": 91,
   "metadata": {},
   "outputs": [],
   "source": [
    "sample_new_input = np.array([[3, 1, 4],[2, 1, 3]],dtype=np.float32)\n",
    "sample_new_target = np.array([[1,2,1],[3, 4, 4]],dtype = np.float32)"
   ]
  },
  {
   "cell_type": "code",
   "execution_count": 92,
   "metadata": {},
   "outputs": [],
   "source": [
    "torch_loss = t_nn.PoissonNLLLoss(log_input=False,reduction='elementwise_mean')\n",
    "torch_poisson_lossVal = torch_loss(torch.tensor(sample_new_input),torch.tensor(sample_new_target))"
   ]
  },
  {
   "cell_type": "code",
   "execution_count": 93,
   "metadata": {},
   "outputs": [],
   "source": [
    "gluon_poisson_loss = mx.gluon.loss.PoissonNLLLoss(from_logits=False)\n",
    "gluon_p_loss = gluon_poisson_loss(nd.array(sample_new_input), nd.array(sample_new_target))"
   ]
  },
  {
   "cell_type": "code",
   "execution_count": 94,
   "metadata": {},
   "outputs": [
    {
     "name": "stdout",
     "output_type": "stream",
     "text": [
      "Torch's Poisson's NLLLoss =  tensor(0.8402)\n",
      "Gluon's Poisson's NLLLoss =  0.8402004\n"
     ]
    }
   ],
   "source": [
    "print(\"Torch's Poisson's NLLLoss = \",torch_poisson_lossVal)\n",
    "print(\"Gluon's Poisson's NLLLoss = \",gluon_p_loss.asscalar())"
   ]
  },
  {
   "cell_type": "code",
   "execution_count": null,
   "metadata": {},
   "outputs": [],
   "source": []
  }
 ],
 "metadata": {
  "kernelspec": {
   "display_name": "Python 3",
   "language": "python",
   "name": "python3"
  },
  "language_info": {
   "codemirror_mode": {
    "name": "ipython",
    "version": 3
   },
   "file_extension": ".py",
   "mimetype": "text/x-python",
   "name": "python",
   "nbconvert_exporter": "python",
   "pygments_lexer": "ipython3",
   "version": "3.6.5"
  }
 },
 "nbformat": 4,
 "nbformat_minor": 2
}
