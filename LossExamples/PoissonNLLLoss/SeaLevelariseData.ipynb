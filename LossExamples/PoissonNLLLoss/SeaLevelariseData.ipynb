{
 "cells": [
  {
   "cell_type": "markdown",
   "metadata": {},
   "source": [
    "# Sea Level Rise dataset Poisson Loss"
   ]
  },
  {
   "cell_type": "code",
   "execution_count": 1,
   "metadata": {},
   "outputs": [
    {
     "name": "stderr",
     "output_type": "stream",
     "text": [
      "/Users/gireeg/anaconda3/lib/python3.6/site-packages/h5py/__init__.py:36: FutureWarning: Conversion of the second argument of issubdtype from `float` to `np.floating` is deprecated. In future, it will be treated as `np.float64 == np.dtype(float).type`.\n",
      "  from ._conv import register_converters as _register_converters\n"
     ]
    }
   ],
   "source": [
    "import mxnet as mx\n",
    "import numpy as np\n",
    "from mxnet import gluon, nd, autograd\n",
    "mx.random.seed(1)\n",
    "import pandas as pd\n",
    "\n",
    "from mxnet.gluon import nn\n",
    "%matplotlib inline\n",
    "from matplotlib import pyplot as plt"
   ]
  },
  {
   "cell_type": "code",
   "execution_count": 3,
   "metadata": {},
   "outputs": [],
   "source": [
    "from mxnet.gluon.loss import PoissonNLLLoss"
   ]
  },
  {
   "cell_type": "markdown",
   "metadata": {},
   "source": [
    "# Fetching dataset"
   ]
  },
  {
   "cell_type": "code",
   "execution_count": 4,
   "metadata": {},
   "outputs": [
    {
     "name": "stdout",
     "output_type": "stream",
     "text": [
      "            GMSL\n",
      "Time            \n",
      "1993-01-15  -1.6\n",
      "1993-02-15  -3.4\n",
      "1993-03-15   5.5\n",
      "1993-04-15   0.1\n",
      "1993-05-15   5.3\n"
     ]
    },
    {
     "data": {
      "image/png": "[encoded data removed]",
      "text/plain": [
       "<Figure size 432x288 with 1 Axes>"
      ]
     },
     "metadata": {},
     "output_type": "display_data"
    }
   ],
   "source": [
    "df = pd.read_csv(\"https://datahub.io/core/sea-level-rise/r/csiro_alt_gmsl_mo_2015.csv\").set_index('Time')\n",
    "df\n",
    "print(df.head())\n",
    "\n",
    "ts = df.values[-80:,0]\n",
    "\n",
    "plt.plot(ts);"
   ]
  },
  {
   "cell_type": "code",
   "execution_count": 5,
   "metadata": {},
   "outputs": [
    {
     "name": "stdout",
     "output_type": "stream",
     "text": [
      "\n",
      "[[-1.7071279  -0.4745903 ]\n",
      " [-1.6569183  -0.5699886 ]\n",
      " [-1.6067086  -0.48463222]\n",
      " [-1.556499   -0.51977897]\n",
      " [-1.5062894  -0.41935968]]\n",
      "<NDArray 5x2 @cpu(0)>\n",
      "\n",
      "[[0. ]\n",
      " [1.7]\n",
      " [1. ]\n",
      " [3. ]\n",
      " [2.1]]\n",
      "<NDArray 5x1 @cpu(0)>\n"
     ]
    }
   ],
   "source": [
    "forecast_length = 10\n",
    "train_length = len(ts) - forecast_length\n",
    "\n",
    "tgt_min = ts.min()\n",
    "ts = ts - tgt_min\n",
    "\n",
    "# droping the first observation due to lag\n",
    "target = nd.array(ts[:train_length]).reshape((train_length,1))[1:]\n",
    "\n",
    "# prediction target\n",
    "pred_target = nd.array(ts[train_length:]).reshape((forecast_length,1))\n",
    "\n",
    "# construct lag and trend\n",
    "trend = nd.arange(train_length).reshape((train_length,1))\n",
    "lag_sales = nd.array(ts).reshape((train_length,1))\n",
    "\n",
    "# droping the last observation due to lag\n",
    "features = nd.concat(trend[:-1],lag_sales[:-1])\n",
    "\n",
    "# standardize\n",
    "features_mean = features.mean(axis=0)\n",
    "features_std = nd.array(features.asnumpy().std(axis=0)).reshape((1,1))\n",
    "features = (features - features_mean) / features_std\n",
    "\n",
    "print(features[:5,])\n",
    "print(target[:5,])\n",
    "num_examples = features.shape[0]"
   ]
  },
  {
   "cell_type": "code",
   "execution_count": 6,
   "metadata": {},
   "outputs": [],
   "source": [
    "# Use data loader to lad the data from the dataset"
   ]
  },
  {
   "cell_type": "code",
   "execution_count": 7,
   "metadata": {},
   "outputs": [],
   "source": [
    "batch_size = 3\n",
    "train_data = gluon.data.DataLoader(\n",
    "    gluon.data.ArrayDataset(features, target),\n",
    "    batch_size=batch_size, shuffle=True)"
   ]
  },
  {
   "cell_type": "code",
   "execution_count": 6,
   "metadata": {},
   "outputs": [],
   "source": []
  },
  {
   "cell_type": "code",
   "execution_count": 9,
   "metadata": {},
   "outputs": [
    {
     "data": {
      "text/plain": [
       "Sequential(\n",
       "  (0): Dense(None -> 1, Activation(tanh))\n",
       "  (1): Dense(None -> 1, linear)\n",
       ")"
      ]
     },
     "execution_count": 9,
     "metadata": {},
     "output_type": "execute_result"
    }
   ],
   "source": [
    "net = nn.Sequential()\n",
    "#Add a sequence of layers.\n",
    "net.add(\n",
    "    nn.Dense(1,activation='tanh'),\n",
    "    nn.Dense(1)\n",
    ")\n",
    "  \n",
    "net"
   ]
  },
  {
   "cell_type": "code",
   "execution_count": 10,
   "metadata": {},
   "outputs": [],
   "source": [
    "def poissonloss_hidden(X):\n",
    "    yhat1 = net(X);\n",
    "    yhat = nd.exp(yhat1)\n",
    "    return yhat"
   ]
  },
  {
   "cell_type": "code",
   "execution_count": 11,
   "metadata": {},
   "outputs": [],
   "source": [
    "poisson_loss = PoissonNLLLoss(from_logits=False)"
   ]
  },
  {
   "cell_type": "code",
   "execution_count": 12,
   "metadata": {},
   "outputs": [],
   "source": [
    "net.collect_params().initialize(mx.init.Normal(sigma=1.), ctx=mx.cpu())"
   ]
  },
  {
   "cell_type": "code",
   "execution_count": 13,
   "metadata": {},
   "outputs": [],
   "source": [
    "trainer = gluon.Trainer(net.collect_params(), 'sgd', {'learning_rate': 0.02})"
   ]
  },
  {
   "cell_type": "code",
   "execution_count": 15,
   "metadata": {},
   "outputs": [
    {
     "name": "stdout",
     "output_type": "stream",
     "text": [
      "Epoch 0, loss: -3.8343121542230896\n",
      "Epoch 10, loss: -6.321571018384851\n"
     ]
    }
   ],
   "source": [
    "epochs = 20\n",
    "loss_sequence = []\n",
    "loss_seq = []\n",
    "niter = 0\n",
    "epochslist = []\n",
    "num_batches = num_examples / batch_size\n",
    "smoothing_constant = 0.5\n",
    "moving_loss = 0\n",
    "\n",
    "for e in range(epochs):\n",
    "    cumulative_loss = 0\n",
    "    # inner loop\n",
    "    for i, (data, label) in enumerate(train_data):\n",
    "\n",
    "        with autograd.record():\n",
    "            output = poissonloss_hidden(data)\n",
    "            loss =  poisson_loss(output, label)\n",
    "        loss.backward()\n",
    "        trainer.step(batch_size)\n",
    "        niter +=1\n",
    "        curr_loss = nd.mean(loss).asscalar()\n",
    "        moving_loss = (1 - smoothing_constant) * moving_loss + (smoothing_constant) * curr_loss\n",
    "\n",
    "        # correct the bias from the moving averages\n",
    "        est_loss = moving_loss/(1-(1-smoothing_constant)**niter)\n",
    "        loss_seq.append(est_loss)\n",
    "        cumulative_loss += nd.mean(loss).asscalar()\n",
    "    if e % 10 == 0:    \n",
    "        print(\"Epoch %s, loss: %s\" % (e, cumulative_loss / num_examples))\n",
    "    loss_sequence.append(cumulative_loss/num_examples)\n",
    "    epochslist.append(e)"
   ]
  },
  {
   "cell_type": "code",
   "execution_count": 16,
   "metadata": {},
   "outputs": [
    {
     "data": {
      "text/plain": [
       "[<matplotlib.lines.Line2D at 0x1a2cc41a58>]"
      ]
     },
     "execution_count": 16,
     "metadata": {},
     "output_type": "execute_result"
    },
    {
     "data": {
      "image/png": "[encoded data removed]",
      "text/plain": [
       "<Figure size 432x288 with 1 Axes>"
      ]
     },
     "metadata": {},
     "output_type": "display_data"
    }
   ],
   "source": [
    "%matplotlib inline\n",
    "import matplotlib.pyplot as plt\n",
    "\n",
    "plt.plot(epochslist,loss_sequence)"
   ]
  },
  {
   "cell_type": "code",
   "execution_count": 17,
   "metadata": {},
   "outputs": [
    {
     "data": {
      "image/png": "[encoded data removed]",
      "text/plain": [
       "<Figure size 432x288 with 1 Axes>"
      ]
     },
     "metadata": {},
     "output_type": "display_data"
    }
   ],
   "source": [
    "def plot_forecast(observed, fitted):\n",
    "    plt.plot(fitted.asnumpy(), color=\"b\")\n",
    "    plt.plot(observed, color=\"g\")\n",
    "    T = len(fitted)\n",
    "    \n",
    "fit = (poissonloss_hidden(features))\n",
    "plot_forecast(ts[1:],fit)"
   ]
  },
  {
   "cell_type": "code",
   "execution_count": 18,
   "metadata": {},
   "outputs": [],
   "source": [
    "# New code for forecasting...\n",
    "def forecast_poisson(pl, last_obs, features_mean, features_std,\n",
    "                     forecast_length, train_length):\n",
    "    forecast = nd.empty((forecast_length,1))\n",
    "    for t in range(forecast_length):\n",
    "        if t==0:\n",
    "            prev_obs = last_obs.reshape((1,1))\n",
    "        # construct features\n",
    "        trend = nd.array([train_length + t - 1]).reshape((1,1))\n",
    "        #fct_feat = trend\n",
    "        fct_feat = nd.concat(trend,prev_obs,dim=1)\n",
    "        # normalize features\n",
    "        fct_feat = (fct_feat - features_mean)/features_std\n",
    "        # forecast\n",
    "        fct = pl(fct_feat)\n",
    "        forecast[t,] = fct[0][0]\n",
    "        prev_obs = fct\n",
    "    return forecast\n",
    "  \n",
    "fit = poissonloss_hidden(features)    \n",
    "#fit_trans = inverse_logistic(fit)\n",
    "\n",
    "fct = forecast_poisson(poissonloss_hidden,target[train_length-2],\n",
    "                            features_mean, features_std,\n",
    "                            forecast_length, train_length)\n",
    "#fct_trans = inverse_logistic(fct)"
   ]
  },
  {
   "cell_type": "code",
   "execution_count": 19,
   "metadata": {},
   "outputs": [
    {
     "data": {
      "image/png": "[encoded data removed]",
      "text/plain": [
       "<Figure size 432x288 with 1 Axes>"
      ]
     },
     "metadata": {},
     "output_type": "display_data"
    }
   ],
   "source": [
    "def plot_forecast(observed, fitted, forecasted):\n",
    "    plt.plot(fitted.asnumpy(), color=\"r\")\n",
    "    plt.plot(observed, color=\"g\")\n",
    "    T = len(fitted)\n",
    "    plt.plot(np.arange(T, T+len(forecasted)), forecasted.asnumpy(), color=\"b\")\n",
    "    plt.legend([\"Fitted\", \"Observed\", \"Forecasted\"]);\n",
    "    \n",
    "plot_forecast(ts[1:],fit,fct)"
   ]
  },
  {
   "cell_type": "code",
   "execution_count": 31,
   "metadata": {},
   "outputs": [
    {
     "data": {
      "text/plain": [
       "((80,), \n",
       " [-1.7071279 -0.4745903]\n",
       " <NDArray 2 @cpu(0)>)"
      ]
     },
     "execution_count": 31,
     "metadata": {},
     "output_type": "execute_result"
    }
   ],
   "source": [
    "ts.shape, features[0]"
   ]
  },
  {
   "cell_type": "code",
   "execution_count": 270,
   "metadata": {},
   "outputs": [],
   "source": [
    "ts_rest = df.values[:-80,0]"
   ]
  },
  {
   "cell_type": "code",
   "execution_count": 277,
   "metadata": {},
   "outputs": [
    {
     "data": {
      "text/plain": [
       "((70, 1), (70, 1))"
      ]
     },
     "execution_count": 277,
     "metadata": {},
     "output_type": "execute_result"
    }
   ],
   "source": [
    "trend.shape,lag_sales.shape"
   ]
  },
  {
   "cell_type": "code",
   "execution_count": null,
   "metadata": {},
   "outputs": [],
   "source": [
    "# plot the convergence of the estimated loss function\n",
    "%matplotlib inline\n",
    "\n",
    "import matplotlib\n",
    "import matplotlib.pyplot as plt\n",
    "\n",
    "plt.figure(num=None,figsize=(8, 6),dpi=80, facecolor='w', edgecolor='k')\n",
    "plt.plot(range(niter),loss_seq, '.')\n",
    "\n",
    "# adding some additional bells and whistles to the plot\n",
    "plt.grid(True,which=\"both\")\n",
    "plt.xlabel('iteration',fontsize=14)\n",
    "plt.ylabel('est loss',fontsize=14)"
   ]
  },
  {
   "cell_type": "code",
   "execution_count": null,
   "metadata": {},
   "outputs": [],
   "source": []
  }
 ],
 "metadata": {
  "kernelspec": {
   "display_name": "Python 3",
   "language": "python",
   "name": "python3"
  },
  "language_info": {
   "codemirror_mode": {
    "name": "ipython",
    "version": 3
   },
   "file_extension": ".py",
   "mimetype": "text/x-python",
   "name": "python",
   "nbconvert_exporter": "python",
   "pygments_lexer": "ipython3",
   "version": "3.6.5"
  }
 },
 "nbformat": 4,
 "nbformat_minor": 2
}
