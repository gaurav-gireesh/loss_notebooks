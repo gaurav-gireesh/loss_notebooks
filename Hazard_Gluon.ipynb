{
 "cells": [
  {
   "cell_type": "markdown",
   "metadata": {},
   "source": [
    "# Hazard Dataset - Poisson Loss Function"
   ]
  },
  {
   "cell_type": "code",
   "execution_count": 1,
   "metadata": {},
   "outputs": [
    {
     "name": "stderr",
     "output_type": "stream",
     "text": [
      "/Users/gireeg/anaconda3/lib/python3.6/site-packages/h5py/__init__.py:36: FutureWarning: Conversion of the second argument of issubdtype from `float` to `np.floating` is deprecated. In future, it will be treated as `np.float64 == np.dtype(float).type`.\n",
      "  from ._conv import register_converters as _register_converters\n"
     ]
    }
   ],
   "source": [
    "import pandas as pd\n",
    "import mxnet as mx\n",
    "from mxnet import gluon, nd, autograd\n",
    "mx.random.seed(1)\n",
    "import numpy as np\n",
    "from mxnet.gluon import nn"
   ]
  },
  {
   "cell_type": "markdown",
   "metadata": {},
   "source": [
    "# Fetching Dataset"
   ]
  },
  {
   "cell_type": "code",
   "execution_count": 2,
   "metadata": {},
   "outputs": [],
   "source": [
    "df = pd.read_csv('./train.csv',skiprows=1,header=None)"
   ]
  },
  {
   "cell_type": "code",
   "execution_count": 3,
   "metadata": {},
   "outputs": [],
   "source": [
    "df_wo_nonnumeric = df.select_dtypes(include=np.number)"
   ]
  },
  {
   "cell_type": "code",
   "execution_count": 4,
   "metadata": {},
   "outputs": [
    {
     "data": {
      "text/plain": [
       "((50999, 17), (50999,))"
      ]
     },
     "execution_count": 4,
     "metadata": {},
     "output_type": "execute_result"
    }
   ],
   "source": [
    "df_train_y = df_wo_nonnumeric[1]\n",
    "np_train_y = df_train_y.values\n",
    "df_train_x = df_wo_nonnumeric.drop(labels=1,axis =1)\n",
    "np_train_x = df_train_x.values\n",
    "X = nd.array(np_train_x)\n",
    "Y  = nd.array(np_train_y)\n",
    "X.shape, Y.shape"
   ]
  },
  {
   "cell_type": "code",
   "execution_count": 5,
   "metadata": {},
   "outputs": [],
   "source": [
    "num_examples = X.shape[0]\n",
    "num_features = X.shape[1]\n",
    "epochs = 10\n",
    "num_outputs = 1\n",
    "model_ctx = mx.cpu()\n",
    "data_ctx = mx.cpu()"
   ]
  },
  {
   "cell_type": "code",
   "execution_count": 6,
   "metadata": {},
   "outputs": [
    {
     "name": "stdout",
     "output_type": "stream",
     "text": [
      "Number of training examples =  50999\n",
      "Number of input features =  17\n"
     ]
    }
   ],
   "source": [
    "print(\"Number of training examples = \", num_examples)\n",
    "print(\"Number of input features = \",num_features)\n",
    "X_mean = nd.mean(X, axis=0)\n",
    "X_SD = nd.array(np.std(X.asnumpy(),axis=0))\n",
    "X_nm =  (X - X_mean) / X_SD"
   ]
  },
  {
   "cell_type": "markdown",
   "metadata": {},
   "source": [
    "# DataLoader use:"
   ]
  },
  {
   "cell_type": "code",
   "execution_count": 7,
   "metadata": {},
   "outputs": [],
   "source": [
    "batch_size = 256\n",
    "# Genrate the training set usin ArrayDataSet\n",
    "training_set = gluon.data.DataLoader(gluon.data.ArrayDataset(X_nm,Y), shuffle=True, batch_size = batch_size )"
   ]
  },
  {
   "cell_type": "code",
   "execution_count": null,
   "metadata": {},
   "outputs": [],
   "source": []
  },
  {
   "cell_type": "code",
   "execution_count": null,
   "metadata": {},
   "outputs": [],
   "source": []
  },
  {
   "cell_type": "markdown",
   "metadata": {},
   "source": [
    "# Defining the loss function"
   ]
  },
  {
   "cell_type": "code",
   "execution_count": 8,
   "metadata": {},
   "outputs": [],
   "source": [
    "def poisson_loss(#self, \n",
    "    F,             #data coming from caller\n",
    "    pred,          #lambda - the rate of event occuring in a given interval\n",
    "    target,        #the value of k (result  or the actual number of events happening)\n",
    "    from_logits  = False,\n",
    "    sample_weight= None, \n",
    "    compute_full = False,\n",
    "    epsilon = 1e-12\n",
    "    ):\n",
    "       \n",
    "        F=nd\n",
    "\n",
    "        if from_logits:\n",
    "            loss = F.exp(pred) - target * pred\n",
    "        else:\n",
    "            loss = pred - target * nd.log(pred+epsilon)\n",
    "\n",
    "        return F.mean(loss)"
   ]
  },
  {
   "cell_type": "markdown",
   "metadata": {},
   "source": [
    "# Defining the model"
   ]
  },
  {
   "cell_type": "code",
   "execution_count": 9,
   "metadata": {},
   "outputs": [
    {
     "data": {
      "text/plain": [
       "Sequential(\n",
       "  (0): Dense(None -> 1, Activation(relu))\n",
       "  (1): Dense(None -> 1, linear)\n",
       ")"
      ]
     },
     "execution_count": 9,
     "metadata": {},
     "output_type": "execute_result"
    }
   ],
   "source": [
    "net = nn.Sequential()\n",
    "# Add a sequence of layers.\n",
    "net.add(\n",
    "    nn.Dense(1,activation='relu'),\n",
    "    nn.Dense(1)\n",
    ")\n",
    "    \n",
    "net"
   ]
  },
  {
   "cell_type": "code",
   "execution_count": 10,
   "metadata": {},
   "outputs": [],
   "source": [
    "# Calculating forward pass output of the model\n",
    "def poissonloss_hidden(X):\n",
    "    yhat1 = net(X);\n",
    "    yhat = nd.exp(yhat1)\n",
    "    return yhat"
   ]
  },
  {
   "cell_type": "markdown",
   "metadata": {},
   "source": [
    "# Initializing model parameters - (Deferred initialization)"
   ]
  },
  {
   "cell_type": "code",
   "execution_count": 11,
   "metadata": {},
   "outputs": [],
   "source": [
    "net.collect_params().initialize(mx.init.Normal(sigma=1), ctx=mx.cpu())"
   ]
  },
  {
   "cell_type": "markdown",
   "metadata": {},
   "source": [
    "# Defining optimizer - SGD"
   ]
  },
  {
   "cell_type": "code",
   "execution_count": 12,
   "metadata": {},
   "outputs": [],
   "source": [
    "trainer = gluon.Trainer(net.collect_params(), 'sgd', {'learning_rate': 0.06})"
   ]
  },
  {
   "cell_type": "code",
   "execution_count": 13,
   "metadata": {},
   "outputs": [
    {
     "name": "stdout",
     "output_type": "stream",
     "text": [
      "Epoch 0, loss: 0.015770203660648453\n",
      "Epoch 5, loss: -0.003554441270441347\n",
      "Epoch 10, loss: -0.005147810104924157\n",
      "Epoch 15, loss: -0.0058139088413346465\n",
      "Epoch 20, loss: -0.00607601653202115\n",
      "Epoch 25, loss: -0.0061504695926891334\n",
      "Epoch 30, loss: -0.006174256254447231\n",
      "Epoch 35, loss: -0.00617284678090294\n",
      "Epoch 40, loss: -0.00618193989728123\n",
      "Epoch 45, loss: -0.006187202374176263\n"
     ]
    }
   ],
   "source": [
    "# Training loop\n",
    "epochs = 50\n",
    "loss_sequence = []\n",
    "loss_seq = []\n",
    "niter = 0\n",
    "epochslist = []\n",
    "num_batches = num_examples / batch_size\n",
    "smoothing_constant = 0.5\n",
    "moving_loss = 0\n",
    "\n",
    "for e in range(epochs):\n",
    "    cumulative_loss = 0\n",
    "    # inner loop\n",
    "    for i, (data, label) in enumerate(training_set):\n",
    "\n",
    "        with autograd.record():\n",
    "            output = poissonloss_hidden(data)\n",
    "            loss =  poisson_loss(None,output, label, from_logits=False, compute_full=False)\n",
    "        loss.backward()\n",
    "        trainer.step(batch_size)\n",
    "        niter +=1\n",
    "        curr_loss = nd.mean(loss).asscalar()\n",
    "        moving_loss = (1 - smoothing_constant) * moving_loss + (smoothing_constant) * curr_loss\n",
    "\n",
    "        # correct the bias from the moving averages\n",
    "        est_loss = moving_loss/(1-(1-smoothing_constant)**niter)\n",
    "        loss_seq.append(est_loss)\n",
    "        cumulative_loss += nd.mean(loss).asscalar()\n",
    "    if e % 5 ==0:    \n",
    "        print(\"Epoch %s, loss: %s\" % (e, cumulative_loss / num_examples))\n",
    "    loss_sequence.append(cumulative_loss/num_examples)\n",
    "    epochslist.append(e)"
   ]
  },
  {
   "cell_type": "markdown",
   "metadata": {},
   "source": [
    "# Plotting Loss function with epochs"
   ]
  },
  {
   "cell_type": "code",
   "execution_count": 14,
   "metadata": {},
   "outputs": [
    {
     "data": {
      "text/plain": [
       "Text(0,0.5,'loss')"
      ]
     },
     "execution_count": 14,
     "metadata": {},
     "output_type": "execute_result"
    },
    {
     "data": {
      "image/png": "[encoded data removed]",
      "text/plain": [
       "<Figure size 432x288 with 1 Axes>"
      ]
     },
     "metadata": {},
     "output_type": "display_data"
    }
   ],
   "source": [
    "%matplotlib inline\n",
    "import matplotlib.pyplot as plt\n",
    "\n",
    "plt.plot(epochslist,loss_sequence,color='red')\n",
    "plt.grid(True,which=\"both\")\n",
    "plt.xlabel('iteration(epochs)',fontsize=14)\n",
    "plt.ylabel('loss',fontsize=14)"
   ]
  },
  {
   "cell_type": "code",
   "execution_count": null,
   "metadata": {},
   "outputs": [],
   "source": []
  },
  {
   "cell_type": "code",
   "execution_count": null,
   "metadata": {},
   "outputs": [],
   "source": []
  },
  {
   "cell_type": "code",
   "execution_count": null,
   "metadata": {},
   "outputs": [],
   "source": []
  },
  {
   "cell_type": "markdown",
   "metadata": {},
   "source": [
    "# Plotting Moving Averages of the Loss"
   ]
  },
  {
   "cell_type": "code",
   "execution_count": 40,
   "metadata": {},
   "outputs": [
    {
     "data": {
      "text/plain": [
       "Text(0,0.5,'est loss')"
      ]
     },
     "execution_count": 40,
     "metadata": {},
     "output_type": "execute_result"
    },
    {
     "data": {
      "image/png": "[encoded data removed]",
      "text/plain": [
       "<Figure size 640x480 with 1 Axes>"
      ]
     },
     "metadata": {},
     "output_type": "display_data"
    }
   ],
   "source": [
    "%matplotlib inline\n",
    "\n",
    "import matplotlib\n",
    "import matplotlib.pyplot as plt\n",
    "\n",
    "plt.figure(num=None,figsize=(8, 6),dpi=80, facecolor='w', edgecolor='k')\n",
    "plt.plot(range(niter),loss_seq, '.')\n",
    "\n",
    "# adding some additional bells and whistles to the plot\n",
    "plt.grid(True,which=\"both\")\n",
    "plt.xlabel('iteration',fontsize=14)\n",
    "plt.ylabel('est loss',fontsize=14)"
   ]
  },
  {
   "cell_type": "code",
   "execution_count": null,
   "metadata": {},
   "outputs": [],
   "source": []
  }
 ],
 "metadata": {
  "kernelspec": {
   "display_name": "Python 3",
   "language": "python",
   "name": "python3"
  },
  "language_info": {
   "codemirror_mode": {
    "name": "ipython",
    "version": 3
   },
   "file_extension": ".py",
   "mimetype": "text/x-python",
   "name": "python",
   "nbconvert_exporter": "python",
   "pygments_lexer": "ipython3",
   "version": "3.6.5"
  }
 },
 "nbformat": 4,
 "nbformat_minor": 2
}
